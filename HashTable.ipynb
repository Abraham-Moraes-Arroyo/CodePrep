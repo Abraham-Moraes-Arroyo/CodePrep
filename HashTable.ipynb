{
 "cells": [
  {
   "cell_type": "markdown",
   "metadata": {},
   "source": [
    "# Group Dishes \n",
    "\n",
    "You are given a list ``dishes``, where each element consists of a list of strings begin with the name of the dish, followed by al the ingredients, so that for each ingredient you'll be able to find all the dishes that contain (if there are at least ``2`` such dishes).\n",
    "\n",
    "Return an array where each element is a list beginning with the ingrredient name, followed by the names of all the dishes that contain this ingredient. The dishes inside each list should be sorted lexicographically, and the result array should be sorted lexicographically by the names of the ingredients. \n",
    "\n",
    "\n",
    "``\n",
    " dishes = [[\"Salad\", \"Tomato\", \"Cucumber\", \"Salad\", \"Sauce\"],\n",
    "            [\"Pizza\", \"Tomato\", \"Sausage\", \"Sauce\", \"Dough\"],\n",
    "            [\"Quesadilla\", \"Chicken\", \"Cheese\", \"Sauce\"],\n",
    "            [\"Sandwich\", \"Salad\", \"Bread\", \"Tomato\", \"Cheese\"]]\n",
    "``"
   ]
  },
  {
   "cell_type": "markdown",
   "metadata": {},
   "source": [
    "The output should be: \n",
    "``solution(dishes) = [[\"Cheese\", \"Quesadilla\", \"Sandwich\"],\n",
    "                      [\"Salad\", \"Salad\", \"Sandwich\"],\n",
    "                      [\"Sauce\", \"Pizza\", \"Quesadilla\", \"Salad\"],\n",
    "                      [\"Tomato\", \"Pizza\", \"Salad\", \"Sandwich\"]]``\n"
   ]
  },
  {
   "cell_type": "markdown",
   "metadata": {},
   "source": [
    "* For:\n",
    "\n",
    "`` dishes = [[\"Pasta\", \"Tomato Sauce\", \"Onions\", \"Garlic\"],\n",
    "            [\"Chicken Curry\", \"Chicken\", \"Curry Sauce\"],\n",
    "            [\"Fried Rice\", \"Rice\", \"Onions\", \"Nuts\"],\n",
    "            [\"Salad\", \"Spinach\", \"Nuts\"],\n",
    "            [\"Sandwich\", \"Cheese\", \"Bread\"],\n",
    "            [\"Quesadilla\", \"Chicken\", \"Cheese\"]]``"
   ]
  },
  {
   "cell_type": "markdown",
   "metadata": {},
   "source": [
    "* the output should be: \n",
    "``solution(dishes) = [[\"Cheese\", \"Quesadilla\", \"Sandwich\"],\n",
    "                      [\"Chicken\", \"Chicken Curry\", \"Quesadilla\"],\n",
    "                      [\"Nuts\", \"Fried Rice\", \"Salad\"],\n",
    "                      [\"Onions\", \"Fried Rice\", \"Pasta\"]]``"
   ]
  },
  {
   "cell_type": "code",
   "execution_count": 1,
   "metadata": {},
   "outputs": [],
   "source": [
    "def solution(dishes):\n",
    "    groups = {}\n",
    "    for d, *v in dishes: \n",
    "        for x in v: \n",
    "            groups.setdefault(x,[]).append(d)\n",
    "    ans = []\n",
    "    for x in sorted(groups):\n",
    "        if len(groups[x]) >= 2:\n",
    "            ans.append([x] + sorted(groups[x]))\n",
    "    return ans"
   ]
  },
  {
   "cell_type": "markdown",
   "metadata": {},
   "source": [
    "another attempt:"
   ]
  },
  {
   "cell_type": "code",
   "execution_count": 2,
   "metadata": {},
   "outputs": [],
   "source": [
    "def solution(dishes):\n",
    "    D= {}\n",
    "    for dish in dishes: \n",
    "        dish_name = dish.pop(0)\n",
    "        for ingred in dish: \n",
    "            D[ingred]= D.get(ingred, []) + [dish_name]\n",
    "    return sorted([i] + sorted(v) for i, v in D.items() if len(v) > 1)"
   ]
  },
  {
   "cell_type": "code",
   "execution_count": 3,
   "metadata": {},
   "outputs": [],
   "source": [
    "def solution(dishes):\n",
    "    ingredient_map= {}\n",
    "    for dish in dishes: \n",
    "        dish_name = dish[0]\n",
    "\n",
    "        for ingredient in dish[1:]:\n",
    "            if ingredient not in ingredient_map:\n",
    "                ingredient_map[ingredient]=[]\n",
    "            \n",
    "            ingredient_map[ingredient].append(dish_name)\n",
    "    dishes_out = []\n",
    "    for key in sorted(ingredient_map.keys()):\n",
    "        if key(ingredient_map[key]) < 2:\n",
    "            continue\n",
    "        dishes_out.append([key] + sorted(ingredient_map[key]))\n",
    "\n",
    "    return dishes_out\n"
   ]
  },
  {
   "cell_type": "markdown",
   "metadata": {},
   "source": [
    "# areFollowingPatterns\n",
    "\n",
    "Given an array ``strings``, detemrien whether it follows the sequence given in the ``patterns`` array. In other words, there shoudl be no i and k for which ``strings[i] = strings[j] and patterns[i]$!=$ strings[j]`` or for which ``strings[i] $!=$ strings[j]`` and ``patterns[i] = patterns[j]``.\n",
    "\n",
    "\n",
    "For example: \n",
    "\n",
    "* for ``strings =[\"cat\", \"dog\", \"dog\"]`` and ``patterns =[\"a\", \"b\", \"b:]`` should be ``solution(strings, patterns) = true``.\n",
    "\n",
    "* for ``strings = [\"cat\", \"dog\", \"doggy\"]`` and ``patterns =[\"a\",\"b\", \"b\"]``, the output should be ``solution(strings,patterns)= false``."
   ]
  },
  {
   "cell_type": "code",
   "execution_count": 4,
   "metadata": {},
   "outputs": [],
   "source": [
    "def solution(strings, patterns):\n",
    "    return len(set(strings)) == len(set(patterns)) == len(set(zip(strings, patterns)))"
   ]
  },
  {
   "cell_type": "markdown",
   "metadata": {},
   "source": [
    "Another attempt"
   ]
  },
  {
   "cell_type": "code",
   "execution_count": 5,
   "metadata": {},
   "outputs": [],
   "source": [
    "def solution(strings, patterns):\n",
    "    d= {}\n",
    "    for i, j in zip(strings, patterns):\n",
    "        if i in d and d[i] != j:\n",
    "            return False \n",
    "        d[i] = j\n",
    "    return len(d) == len(set(d.values()))"
   ]
  },
  {
   "cell_type": "markdown",
   "metadata": {},
   "source": [
    "# ContainsCloseNums: \n",
    "\n",
    "Given an array of integers ``nums`` and an integer ``k``, determine wheter there are two distinct indices ``i`` and ``j`` in the array where ``nums[i] = nums[j]`` and the absolute difference between ``i`` and ``j`` is less than or equaalt to ``k``\n",
    "\n",
    "Example\n",
    "* For ``nums = [0,1,2,3,5,2]`` and ``k=3``, the output should be ``solution(nums,k) = true``\n",
    "\n",
    "There are two ``2``s in ``nums``,a nd the absolute difference between exactly ``3`` \n",
    "\n",
    "* For ``nums = [0,1,2,5,2]`` and ``k=2``, the output should be ``solution(nums,k) = false ``\n",
    "\n",
    "The absolute difference between the positions of the two ``2`` is ``3``, which is more than ``k``."
   ]
  },
  {
   "cell_type": "code",
   "execution_count": 6,
   "metadata": {},
   "outputs": [],
   "source": [
    "def solution(nums,k):\n",
    "    lastSeen = {}\n",
    "    for i, in enumerate(nums):\n",
    "        if n in lastSeen: \n",
    "            if i- lastSeen[n] <= k:\n",
    "                return True \n",
    "            else: \n",
    "                lastSeen[n] = i \n",
    "        else: \n",
    "            lastSeen[n] = i \n",
    "    return False "
   ]
  },
  {
   "cell_type": "markdown",
   "metadata": {},
   "source": [
    "Another Attempt "
   ]
  },
  {
   "cell_type": "code",
   "execution_count": 7,
   "metadata": {},
   "outputs": [],
   "source": [
    "def solution(nums, k):\n",
    "    d= dict()\n",
    "    for i, v in enumerate(nums):\n",
    "        if v in d and i-d[v] <= k:\n",
    "            return True \n",
    "        d[v] = i \n",
    "    return False "
   ]
  },
  {
   "cell_type": "markdown",
   "metadata": {},
   "source": [
    "Another attempt"
   ]
  },
  {
   "cell_type": "code",
   "execution_count": 8,
   "metadata": {},
   "outputs": [],
   "source": [
    "def solution(nums, k):\n",
    "    if len(set(nums)) == len(nums):\n",
    "        return False \n",
    "    for i in range(len(nums)-1):\n",
    "        if nums[i] in set(nums[i+1: i+k+1]):\n",
    "            return True \n",
    "    return False "
   ]
  },
  {
   "cell_type": "markdown",
   "metadata": {},
   "source": [
    "# PossibleSums \n",
    "\n",
    "You have a colleciton of coins, and you know the values of the ``coins`` and the ``quantity`` of each type of coin in it. You watnt o know how many from non- empty groupings of these ocins. \n",
    "\n",
    "Example: \n",
    "* for ``coins = [10,50,100]`` and ``quantity = [1,2,1]``, the output should be ``solution(coins, quantity) = 9``\n",
    "\n",
    "Here are all the possible sums: \n",
    "\n",
    "* ``50= 50``\n",
    "* ``10+ 50 = 60``\n",
    "* ``50 + 100 = 150`` "
   ]
  },
  {
   "cell_type": "code",
   "execution_count": 2,
   "metadata": {},
   "outputs": [],
   "source": [
    "def solution(coins, quantity):\n",
    "    possible_sums= {0}\n",
    "    for c, q in zip(coins, quantity):\n",
    "        possible_sums= {x +c * i for x in possible_sums for i in range(q+1)}\n",
    "    return len(possible_sums)- 1\n"
   ]
  },
  {
   "cell_type": "markdown",
   "metadata": {},
   "source": [
    "Another thing "
   ]
  },
  {
   "cell_type": "code",
   "execution_count": 3,
   "metadata": {},
   "outputs": [],
   "source": [
    "def solution(coins, quantity):\n",
    "    possible_sums= {0}\n",
    "    for coin, quant in zip(coins, quantity):\n",
    "        for s in frozenset(possible_sums):\n",
    "            for quant in range(1,quant + 1):\n",
    "                possible_sums.add(coin * quant + s)\n",
    "    return len(possible_sums) - 1"
   ]
  },
  {
   "cell_type": "markdown",
   "metadata": {},
   "source": [
    "Another attempt: "
   ]
  },
  {
   "cell_type": "code",
   "execution_count": 4,
   "metadata": {},
   "outputs": [],
   "source": [
    "def solution(coins, quantity):\n",
    "    sums = set()\n",
    "    sums.add(0)\n",
    "\n",
    "    for i in range(len(coins)):\n",
    "        tem_set = set(sums)\n",
    "        for j in range(1, quantity[i] +1):\n",
    "            for _sum in tem_set: \n",
    "                sums.add(_sum + coins[i] * j)\n",
    "        #print(sums)\n",
    "\n",
    "        return len(sums) -1"
   ]
  },
  {
   "cell_type": "markdown",
   "metadata": {},
   "source": [
    "# SwapLexOrder \n",
    "\n",
    "Given a string ``str`` and array of ``pairs`` that indicates which indices in string can be swapped, return the lexicographically largest string that results from doing the allowed swaps. You can swap indices any number of times. \n",
    "\n",
    "\n",
    "Example: \n",
    "* For ``str =\"abcd\"`` and ``pairs = [[1,4], [3,4]]`` the output should be ``solution(str, pairs) = \"abca\"``. \n",
    "\n",
    "* By swapping the given indices, you get the strings: \n",
    "``\"cbda\", \"cbad\", \"dbac\", \"dbca\"``. The lexicographically largest string in this list is ``\"dca\"``."
   ]
  },
  {
   "cell_type": "code",
   "execution_count": 5,
   "metadata": {},
   "outputs": [],
   "source": [
    "def solution(str, pairs):\n",
    "    if not str or not pairs: \n",
    "        return ('', str)[not pairs]\n",
    "    lst= [''] + list(str)\n",
    "    setted_pairs = list(map(set, pairs))\n",
    "    while setted_pairs: \n",
    "        path = setted_pairs.pop(0)\n",
    "        while True: \n",
    "            path1 = path.copy()\n",
    "            for pair in setted_pairs: \n",
    "                if path1 & pair: \n",
    "                    path |= pair \n",
    "                    setted_pairs.remove(pair)\n",
    "            if path == path1: \n",
    "                break \n",
    "        optimal = sorted(lst[i] for i in path)\n",
    "        for i, v in enumerate(sorted(path, reverse = True)):\n",
    "            lst[v] = optimal[i]\n",
    "    return ''.join(lst[1:])"
   ]
  },
  {
   "cell_type": "markdown",
   "metadata": {},
   "source": [
    "Another attempt: "
   ]
  },
  {
   "cell_type": "code",
   "execution_count": 6,
   "metadata": {},
   "outputs": [],
   "source": [
    "def solution(strn, pairs):\n",
    "    \"\"\"\n",
    "    if not strn or or not pairs: return strn \n",
    "    check for connected node groupins which can \n",
    "    be sorted individually \n",
    "    \"\"\"\n",
    "    grp = {} # set of all possible locaitons an index coudl end up \n",
    "    for a, b in pairs: \n",
    "        g= grp.get(a,{a}) | grp.get(b,{b})\n",
    "        for n in g: # reset all noted in group \n",
    "            grp[n]= g\n",
    "    for n in grp: \n",
    "        grp[n] = tuple(sorted(grp[n]))\n",
    "    reord= {}\n",
    "    for c in set(grp.values()):\n",
    "        word= sorted((strn[i-1] for i in c), reverse= True)\n",
    "        for i, l in zip(c,word):\n",
    "            return ''.join(reord.get(i,x) for i,x in enumerate(strn))\n"
   ]
  },
  {
   "cell_type": "code",
   "execution_count": null,
   "metadata": {},
   "outputs": [],
   "source": []
  }
 ],
 "metadata": {
  "kernelspec": {
   "display_name": "Python 3",
   "language": "python",
   "name": "python3"
  },
  "language_info": {
   "codemirror_mode": {
    "name": "ipython",
    "version": 3
   },
   "file_extension": ".py",
   "mimetype": "text/x-python",
   "name": "python",
   "nbconvert_exporter": "python",
   "pygments_lexer": "ipython3",
   "version": "3.9.6"
  }
 },
 "nbformat": 4,
 "nbformat_minor": 2
}
