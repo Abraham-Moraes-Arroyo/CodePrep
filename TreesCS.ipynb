{
 "cells": [
  {
   "cell_type": "markdown",
   "metadata": {},
   "source": [
    "# HasPathWithGivenSum \n",
    "\n",
    "Given a binary tree ``t`` and an integer ``s``, determine wheter there is a root to leaf paht in ``t`` such that the sum of vertex values equals ``s``. \n",
    "\n",
    "Example: \n",
    "* For \n",
    "\n",
    "```t = {\n",
    "    \"value\": 4,\n",
    "    \"left\": {\n",
    "        \"value\": 1,\n",
    "        \"left\": {\n",
    "            \"value\": -2,\n",
    "            \"left\": null,\n",
    "            \"right\": {\n",
    "                \"value\": 3,\n",
    "                \"left\": null,\n",
    "                \"right\": null\n",
    "            }\n",
    "        },\n",
    "        \"right\": null\n",
    "    },\n",
    "    \"right\": {\n",
    "        \"value\": 3,\n",
    "        \"left\": {\n",
    "            \"value\": 1,\n",
    "            \"left\": null,\n",
    "            \"right\": null\n",
    "        },\n",
    "        \"right\": {\n",
    "            \"value\": 2,\n",
    "            \"left\": {\n",
    "                \"value\": -2,\n",
    "                \"left\": null,\n",
    "                \"right\": null\n",
    "            },\n",
    "            \"right\": {\n",
    "                \"value\": -3,\n",
    "                \"left\": null,\n",
    "                \"right\": null\n",
    "            }\n",
    "        }\n",
    "    }\n",
    "}\n",
    "```"
   ]
  },
  {
   "cell_type": "markdown",
   "metadata": {},
   "source": [
    "and \n",
    "\n",
    "``s = 7`` \n",
    "\n",
    "the output should be ``solutions(t,s) = true``. \n",
    "\n",
    "This is what this tree looks like: \n",
    "``````\n",
    "\n",
    "      4\n",
    "     / \\\n",
    "    1   3\n",
    "   /   / \\\n",
    "  -2  1   2\n",
    "    \\    / \\\n",
    "     3  -2 -3\n",
    "``````"
   ]
  },
  {
   "cell_type": "markdown",
   "metadata": {},
   "source": [
    "Path ``4 -> 3 -> 2 -> -2 `` gives us ``7``, the required sum\n",
    "\n",
    "* For: \n",
    "``````\n",
    "t = {\n",
    "    \"value\": 4,\n",
    "    \"left\": {\n",
    "        \"value\": 1,\n",
    "        \"left\": {\n",
    "            \"value\": -2,\n",
    "            \"left\": null,\n",
    "            \"right\": {\n",
    "                \"value\": 3,\n",
    "                \"left\": null,\n",
    "                \"right\": null\n",
    "            }\n",
    "        },\n",
    "        \"right\": null\n",
    "    },\n",
    "    \"right\": {\n",
    "        \"value\": 3,\n",
    "        \"left\": {\n",
    "            \"value\": 1,\n",
    "            \"left\": null,\n",
    "            \"right\": null\n",
    "        },\n",
    "        \"right\": {\n",
    "            \"value\": 2,\n",
    "            \"left\": {\n",
    "                \"value\": -4,\n",
    "                \"left\": null,\n",
    "                \"right\": null\n",
    "            },\n",
    "            \"right\": {\n",
    "                \"value\": -3,\n",
    "                \"left\": null,\n",
    "                \"right\": null\n",
    "            }\n",
    "        }\n",
    "    }\n",
    "}\n",
    "``````\n"
   ]
  },
  {
   "cell_type": "markdown",
   "metadata": {},
   "source": [
    "and \n",
    "\n",
    "``s= 7`` \n",
    "\n",
    "the output should be `` solution(t,s) = false``. \n",
    "\n",
    "this is what this tree looks like: \n",
    "\n",
    "``````\n",
    "      4\n",
    "     / \\\n",
    "    1   3\n",
    "   /   / \\\n",
    "  -2  1   2\n",
    "    \\    / \\\n",
    "     3  -4 -3\n",
    "``````\n",
    "\n",
    "There is no paht from root to leaf with the given sum 7 "
   ]
  },
  {
   "cell_type": "code",
   "execution_count": 4,
   "metadata": {},
   "outputs": [],
   "source": [
    "# \"\"\"\n",
    "# Degfintiion for binary tree: \n",
    "# class Tree(object):\n",
    "#     def __init__(self, x):\n",
    "#         self.value = x \n",
    "#         self.left = None \n",
    "#         self.right = None\n",
    "\n",
    "# \"\"\"\n",
    "\n",
    "def solution(t,s):\n",
    "\n",
    "    if t is None:\n",
    "        return s == 0\n",
    "\n",
    "    s = s - t.value\n",
    "    if t.left is None and t.right is None:\n",
    "        print(t.value)\n",
    "        return s == 0\n",
    "    elif t.left is not None and t.right is not None:\n",
    "        return solution(t.left, s) or solution(t.right,s)\n",
    "    elif t.left is not None and t.right is None:\n",
    "        return solution(t.left, s)\n",
    "    elif t.left is None and t.right is not None:\n",
    "        return solution(t.right,s)  "
   ]
  },
  {
   "cell_type": "markdown",
   "metadata": {},
   "source": [
    "Another attempt: "
   ]
  },
  {
   "cell_type": "code",
   "execution_count": 6,
   "metadata": {},
   "outputs": [],
   "source": [
    "def solution(t,s):\n",
    "    if t is None: \n",
    "        return s == 0\n",
    "\n",
    "    return solution(t.left, s-t.value) or solution(t.right, s-t.value)"
   ]
  },
  {
   "cell_type": "markdown",
   "metadata": {},
   "source": [
    "Another attempt:"
   ]
  },
  {
   "cell_type": "code",
   "execution_count": 7,
   "metadata": {},
   "outputs": [],
   "source": [
    "def solution(t,s):\n",
    "    if t is None: \n",
    "        return s == 0 \n",
    "    if t.left is None and t.right is None: \n",
    "        return solution(t.right, s-t.value)\n",
    "    if t.right is None and t.left is not NOne: \n",
    "        return solution(t.left, s-t.value)\n",
    "    return solution(t.left, s-t.value) or solution(t.right, s-t.value)"
   ]
  },
  {
   "cell_type": "markdown",
   "metadata": {},
   "source": [
    "# isTreeSymmetric\n",
    "\n",
    "Given a bianry tree t, determine wheter it is symmetric aroudn its center, i.e. each side mirrors the other. \n",
    "\n"
   ]
  },
  {
   "cell_type": "code",
   "execution_count": 10,
   "metadata": {},
   "outputs": [],
   "source": [
    "\"\"\"\n",
    "Definition for binary tree: \n",
    "class Tree(object):\n",
    "    def __init__(self,x):\n",
    "        self.value = x\n",
    "        self.left = None\n",
    "        self.right = None \n",
    "\"\"\"\n",
    "\n",
    "def solution(t):\n",
    "    def mirrorEquals(left, right):\n",
    "        if left is None or right is None: \n",
    "            return left == None and right == None\n",
    "        return left.value == right.value and \\\n",
    "            mirrorEquals(left.left, right.right) and \\\n",
    "            mirrorEquals(left.right, right.left)\n",
    "    return mirrorEquals(t,t)"
   ]
  },
  {
   "cell_type": "markdown",
   "metadata": {},
   "source": [
    "# findProfession \n",
    "\n",
    "Consider a special family of Engineers and Doctors. This family has the followign rules: \n",
    "\n",
    "* Everybody has two children \n",
    "* the first child of an Engineer is an Engineer and the second child is a Doctor. \n",
    "\n",
    "* the first child of a Doctor isa  Doctor and the second child is an Engineer. \n",
    "\n",
    "* All generations of Doctors and engineers start with an Enngineer. \n",
    "\n",
    "We can represnet the situation using this diagram: \n",
    "\n",
    "``````\n",
    "                E\n",
    "           /         \\\n",
    "          E           D\n",
    "        /   \\        /  \\\n",
    "       E     D      D    E\n",
    "      / \\   / \\    / \\   / \\\n",
    "     E   D D   E  D   E E   D\n",
    "``````\n",
    "\n",
    "Given the level and position of a person in the ancestor tree above, find the profession of hte person. "
   ]
  },
  {
   "cell_type": "markdown",
   "metadata": {},
   "source": [
    "### The following is an attempt: "
   ]
  },
  {
   "cell_type": "code",
   "execution_count": 1,
   "metadata": {},
   "outputs": [],
   "source": [
    "def solution(level, pos):\n",
    "    \"\"\"\n",
    "    Level 1: E \n",
    "    Level 2: ED\n",
    "    Level 3: EDDE\n",
    "    Level 4: EDDEDDEED\n",
    "    Level 5: EDDEDEEDDEEDEDDE\n",
    "\n",
    "\n",
    "    Level inputs is not necessar because first elemeents are the same \n",
    "    the result is based on the count of 1s in binar representation of \n",
    "    poisition -1 \n",
    "    if position is even, then Engineer; Else Doctor\n",
    "    \"\"\"\n",
    "    bits = bin(pos-1).count('1')\n",
    "    if bits%2 == 0: \n",
    "        return \"Engineer\"\n",
    "    else: \n",
    "        return \"Doctor\""
   ]
  },
  {
   "cell_type": "markdown",
   "metadata": {},
   "source": [
    "### Here is another attempt: "
   ]
  },
  {
   "cell_type": "code",
   "execution_count": 2,
   "metadata": {},
   "outputs": [],
   "source": [
    "def soltuion(level, pos):\n",
    "    return recur(level, pos, \"Engineer\")\n",
    "def recur(level, pos, parent):\n",
    "    if level == 1: \n",
    "        return parent\n",
    "    half = 2**(level - 2)\n",
    "    if pos > half: \n",
    "        if parent == \"Doctor\":\n",
    "            return recur(level -1, pos -half, \"Engineer\")\n",
    "        if parent == \"Engineer\":\n",
    "            return recur(level - 1, pos - half, \"Doctor\")\n",
    "    if pos <= half: \n",
    "        if parent == \"Engineer\":\n",
    "            return recur(level -1, pos, \"Engineer\")\n",
    "        if parent == \"Doctor\":\n",
    "            return recur(level -1, pos, \"Doctor\")"
   ]
  },
  {
   "cell_type": "markdown",
   "metadata": {},
   "source": [
    "### Here is another Solution"
   ]
  },
  {
   "cell_type": "code",
   "execution_count": 3,
   "metadata": {},
   "outputs": [],
   "source": [
    "def solution(level, pos):\n",
    "    # base Case \n",
    "    if level == 1: \n",
    "        return \"Engineer\"\n",
    "    # odd element \n",
    "    if pos % 2 == 1: \n",
    "        return soltuion(level -1 , (pos + 1) // 2)\n",
    "    # even element \n",
    "    else: \n",
    "        if solution(level -1, pos // 2) == \"Doctor\":\n",
    "            return \"Engineer\"\n",
    "        else: \n",
    "            return \"Doctor\""
   ]
  },
  {
   "cell_type": "markdown",
   "metadata": {},
   "source": [
    "### Note: \n",
    "\n",
    "The solutions should have only one BST traversal ``O(1)`` extra sapce complexity, since this is what you will be asked to accomplish in an interview \n",
    "\n",
    "A trree is considered a binary seach tree (BST) if for each of its nodes the following is true: \n",
    "\n",
    "1. The left subtrea of a ndoe contians only nodes with keys less thant the node's key \n",
    "\n",
    "2. The right subtree of a node contains only nodes with keys greater than the node's key. \n",
    "\n",
    "3. Both the left and right subtrees must also be binary trees. \n",
    "\n",
    "Given a binary search tree ``t``, find the ``$k^{th}$`` smallest element in it. \n",
    "\n"
   ]
  },
  {
   "cell_type": "markdown",
   "metadata": {},
   "source": [
    "### Here is an attempt to the solution"
   ]
  },
  {
   "cell_type": "code",
   "execution_count": 5,
   "metadata": {},
   "outputs": [],
   "source": [
    "#\n",
    "# defintiion for binary tree: \n",
    "# class Tree(object):\n",
    "# def __init__(self, x):\n",
    "#   self.value = x \n",
    "#   self.left = None \n",
    "#   self.right = None \n",
    "\n",
    "def soltuion(root, K):\n",
    "    def dfs(node):\n",
    "        if node: \n",
    "            yield from dfs(node.left)\n",
    "            yield node.value \n",
    "            yield from dfs(node.right)\n",
    "\n",
    "        f = dfs(root)\n",
    "        for _ in range(K):\n",
    "            ans = next(f)\n",
    "        return ans"
   ]
  },
  {
   "cell_type": "markdown",
   "metadata": {},
   "source": [
    "#### Here is another solution \n",
    "\n",
    "https://www.youtube.com/watch?v=wGXB9OWhPTg "
   ]
  },
  {
   "cell_type": "code",
   "execution_count": 6,
   "metadata": {},
   "outputs": [],
   "source": [
    "# \n",
    "# Definition for binary tree: \n",
    "# class Tree(object):\n",
    "#   def __init__(self,x):\n",
    "#       self.value = x \n",
    "#       self.left = None \n",
    "#       self.right = None \n",
    "\n",
    "def soltuion(t,k):\n",
    "    # Morris in- order traversal (O(1) memory usage)\n",
    "\n",
    "    current = t \n",
    "    while current: \n",
    "        if not current.left:\n",
    "            k -= 1\n",
    "            if k == 0: \n",
    "                return current.value \n",
    "            current = current.right \n",
    "        else: \n",
    "            predecessor = find_predecessor(current)\n",
    "            if not predecessor.right: \n",
    "                predecessor.right = current\n",
    "                current = current.left\n",
    "            else: \n",
    "                predecessor.right = None \n",
    "                k -= 1 \n",
    "                if k == 0: \n",
    "                    return current.value\n",
    "                current = current.right \n",
    "    \n",
    "    return None \n",
    "\n",
    "def find_predecessor(t):\n",
    "    # Go left once, then right as much times as possible \n",
    "    predecessor = t.left \n",
    "\n",
    "    while predecessor.right and predecessor.right != t:\n",
    "        predecessor = predecessor.right \n",
    "\n",
    "    return predecessor\n",
    "            \n"
   ]
  },
  {
   "cell_type": "code",
   "execution_count": null,
   "metadata": {},
   "outputs": [],
   "source": []
  }
 ],
 "metadata": {
  "kernelspec": {
   "display_name": "Python 3",
   "language": "python",
   "name": "python3"
  },
  "language_info": {
   "codemirror_mode": {
    "name": "ipython",
    "version": 3
   },
   "file_extension": ".py",
   "mimetype": "text/x-python",
   "name": "python",
   "nbconvert_exporter": "python",
   "pygments_lexer": "ipython3",
   "version": "3.9.6"
  }
 },
 "nbformat": 4,
 "nbformat_minor": 2
}
