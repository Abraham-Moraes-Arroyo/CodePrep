{
 "cells": [
  {
   "cell_type": "markdown",
   "metadata": {},
   "source": [
    "# HasPathWithGivenSum \n",
    "\n",
    "Given a binary tree ``t`` and an integer ``s``, determine wheter there is a root to leaf paht in ``t`` such that the sum of vertex values equals ``s``. \n",
    "\n",
    "Example: \n",
    "* For \n",
    "\n",
    "```t = {\n",
    "    \"value\": 4,\n",
    "    \"left\": {\n",
    "        \"value\": 1,\n",
    "        \"left\": {\n",
    "            \"value\": -2,\n",
    "            \"left\": null,\n",
    "            \"right\": {\n",
    "                \"value\": 3,\n",
    "                \"left\": null,\n",
    "                \"right\": null\n",
    "            }\n",
    "        },\n",
    "        \"right\": null\n",
    "    },\n",
    "    \"right\": {\n",
    "        \"value\": 3,\n",
    "        \"left\": {\n",
    "            \"value\": 1,\n",
    "            \"left\": null,\n",
    "            \"right\": null\n",
    "        },\n",
    "        \"right\": {\n",
    "            \"value\": 2,\n",
    "            \"left\": {\n",
    "                \"value\": -2,\n",
    "                \"left\": null,\n",
    "                \"right\": null\n",
    "            },\n",
    "            \"right\": {\n",
    "                \"value\": -3,\n",
    "                \"left\": null,\n",
    "                \"right\": null\n",
    "            }\n",
    "        }\n",
    "    }\n",
    "}\n",
    "```"
   ]
  },
  {
   "cell_type": "markdown",
   "metadata": {},
   "source": [
    "and \n",
    "\n",
    "``s = 7`` \n",
    "\n",
    "the output should be ``solutions(t,s) = true``. \n",
    "\n",
    "This is what this tree looks like: \n",
    "``````\n",
    "\n",
    "      4\n",
    "     / \\\n",
    "    1   3\n",
    "   /   / \\\n",
    "  -2  1   2\n",
    "    \\    / \\\n",
    "     3  -2 -3\n",
    "``````"
   ]
  },
  {
   "cell_type": "markdown",
   "metadata": {},
   "source": [
    "Path ``4 -> 3 -> 2 -> -2 `` gives us ``7``, the required sum\n",
    "\n",
    "* For: \n",
    "``````\n",
    "t = {\n",
    "    \"value\": 4,\n",
    "    \"left\": {\n",
    "        \"value\": 1,\n",
    "        \"left\": {\n",
    "            \"value\": -2,\n",
    "            \"left\": null,\n",
    "            \"right\": {\n",
    "                \"value\": 3,\n",
    "                \"left\": null,\n",
    "                \"right\": null\n",
    "            }\n",
    "        },\n",
    "        \"right\": null\n",
    "    },\n",
    "    \"right\": {\n",
    "        \"value\": 3,\n",
    "        \"left\": {\n",
    "            \"value\": 1,\n",
    "            \"left\": null,\n",
    "            \"right\": null\n",
    "        },\n",
    "        \"right\": {\n",
    "            \"value\": 2,\n",
    "            \"left\": {\n",
    "                \"value\": -4,\n",
    "                \"left\": null,\n",
    "                \"right\": null\n",
    "            },\n",
    "            \"right\": {\n",
    "                \"value\": -3,\n",
    "                \"left\": null,\n",
    "                \"right\": null\n",
    "            }\n",
    "        }\n",
    "    }\n",
    "}\n",
    "``````\n"
   ]
  },
  {
   "cell_type": "markdown",
   "metadata": {},
   "source": [
    "and \n",
    "\n",
    "``s= 7`` \n",
    "\n",
    "the output should be `` solution(t,s) = false``. \n",
    "\n",
    "this is what this tree looks like: \n",
    "\n",
    "``````\n",
    "      4\n",
    "     / \\\n",
    "    1   3\n",
    "   /   / \\\n",
    "  -2  1   2\n",
    "    \\    / \\\n",
    "     3  -4 -3\n",
    "``````\n",
    "\n",
    "There is no paht from root to leaf with the given sum 7 "
   ]
  },
  {
   "cell_type": "code",
   "execution_count": 4,
   "metadata": {},
   "outputs": [],
   "source": [
    "# \"\"\"\n",
    "# Degfintiion for binary tree: \n",
    "# class Tree(object):\n",
    "#     def __init__(self, x):\n",
    "#         self.value = x \n",
    "#         self.left = None \n",
    "#         self.right = None\n",
    "\n",
    "# \"\"\"\n",
    "\n",
    "def solution(t,s):\n",
    "\n",
    "    if t is None:\n",
    "        return s == 0\n",
    "\n",
    "    s = s - t.value\n",
    "    if t.left is None and t.right is None:\n",
    "        print(t.value)\n",
    "        return s == 0\n",
    "    elif t.left is not None and t.right is not None:\n",
    "        return solution(t.left, s) or solution(t.right,s)\n",
    "    elif t.left is not None and t.right is None:\n",
    "        return solution(t.left, s)\n",
    "    elif t.left is None and t.right is not None:\n",
    "        return solution(t.right,s)  "
   ]
  },
  {
   "cell_type": "markdown",
   "metadata": {},
   "source": [
    "Another attempt: "
   ]
  },
  {
   "cell_type": "code",
   "execution_count": 6,
   "metadata": {},
   "outputs": [],
   "source": [
    "def solution(t,s):\n",
    "    if t is None: \n",
    "        return s == 0\n",
    "\n",
    "    return solution(t.left, s-t.value) or solution(t.right, s-t.value)"
   ]
  },
  {
   "cell_type": "markdown",
   "metadata": {},
   "source": [
    "Another attempt:"
   ]
  },
  {
   "cell_type": "code",
   "execution_count": 7,
   "metadata": {},
   "outputs": [],
   "source": [
    "def solution(t,s):\n",
    "    if t is None: \n",
    "        return s == 0 \n",
    "    if t.left is None and t.right is None: \n",
    "        return solution(t.right, s-t.value)\n",
    "    if t.right is None and t.left is not NOne: \n",
    "        return solution(t.left, s-t.value)\n",
    "    return solution(t.left, s-t.value) or solution(t.right, s-t.value)"
   ]
  },
  {
   "cell_type": "markdown",
   "metadata": {},
   "source": [
    "# isTreeSymmetric\n",
    "\n",
    "Given a bianry tree t, determine wheter it is symmetric aroudn its center, i.e. each side mirrors the other. \n",
    "\n"
   ]
  },
  {
   "cell_type": "code",
   "execution_count": 10,
   "metadata": {},
   "outputs": [],
   "source": [
    "\"\"\"\n",
    "Definition for binary tree: \n",
    "class Tree(object):\n",
    "    def __init__(self,x):\n",
    "        self.value = x\n",
    "        self.left = None\n",
    "        self.right = None \n",
    "\"\"\"\n",
    "\n",
    "def solution(t):\n",
    "    def mirrorEquals(left, right):\n",
    "        if left is None or right is None: \n",
    "            return left == None and right == None\n",
    "        return left.value == right.value and \\\n",
    "            mirrorEquals(left.left, right.right) and \\\n",
    "            mirrorEquals(left.right, right.left)\n",
    "    return mirrorEquals(t,t)"
   ]
  },
  {
   "cell_type": "markdown",
   "metadata": {},
   "source": [
    "# findProfession \n",
    "\n",
    "Consider a special family of Engineers and Doctors. This family has the followign rules: \n",
    "\n",
    "* Everybody has two children \n",
    "* the first child of an Engineer is an Engineer and the second child is a Doctor. \n",
    "\n",
    "* the first child of a Doctor isa  Doctor and the second child is an Engineer. \n",
    "\n",
    "* All generations of Doctors and engineers start with an Enngineer. \n",
    "\n",
    "We can represnet the situation using this diagram: \n",
    "\n",
    "``````\n",
    "                E\n",
    "           /         \\\n",
    "          E           D\n",
    "        /   \\        /  \\\n",
    "       E     D      D    E\n",
    "      / \\   / \\    / \\   / \\\n",
    "     E   D D   E  D   E E   D\n",
    "``````\n",
    "\n",
    "Given the level and position of a person in the ancestor tree above, find the profession of hte person. "
   ]
  },
  {
   "cell_type": "markdown",
   "metadata": {},
   "source": []
  }
 ],
 "metadata": {
  "kernelspec": {
   "display_name": "Python 3",
   "language": "python",
   "name": "python3"
  },
  "language_info": {
   "codemirror_mode": {
    "name": "ipython",
    "version": 3
   },
   "file_extension": ".py",
   "mimetype": "text/x-python",
   "name": "python",
   "nbconvert_exporter": "python",
   "pygments_lexer": "ipython3",
   "version": "3.9.6"
  }
 },
 "nbformat": 4,
 "nbformat_minor": 2
}
