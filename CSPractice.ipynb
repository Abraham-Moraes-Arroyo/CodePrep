{
 "cells": [
  {
   "cell_type": "markdown",
   "metadata": {},
   "source": [
    "# Century From Year \n",
    "\n",
    "\n",
    "Given a year, return the century it is in. The first century spans from the year 1 up to and including the year 100, the second- from the year 101 up to and including the year 200, etc. \n",
    "\n",
    "\n",
    "* Example year = 1905, the output be: \n",
    "    centuryFromYear(year) = 20\n",
    "\n",
    "* For year 1700, the output should be:\n",
    "    centuryFromYear(year) = 17\n",
    "\n",
    "\n"
   ]
  },
  {
   "cell_type": "code",
   "execution_count": 1,
   "metadata": {},
   "outputs": [
    {
     "data": {
      "text/plain": [
       "19.0"
      ]
     },
     "execution_count": 1,
     "metadata": {},
     "output_type": "execute_result"
    }
   ],
   "source": [
    "# Think of every year as 100 \n",
    "\n",
    "1900/100 "
   ]
  },
  {
   "cell_type": "code",
   "execution_count": 2,
   "metadata": {},
   "outputs": [
    {
     "data": {
      "text/plain": [
       "19.05"
      ]
     },
     "execution_count": 2,
     "metadata": {},
     "output_type": "execute_result"
    }
   ],
   "source": [
    "1905/100"
   ]
  },
  {
   "cell_type": "code",
   "execution_count": 3,
   "metadata": {},
   "outputs": [
    {
     "data": {
      "text/plain": [
       "20.0"
      ]
     },
     "execution_count": 3,
     "metadata": {},
     "output_type": "execute_result"
    }
   ],
   "source": [
    "2000/100"
   ]
  },
  {
   "cell_type": "code",
   "execution_count": 4,
   "metadata": {},
   "outputs": [
    {
     "data": {
      "text/plain": [
       "20.2"
      ]
     },
     "execution_count": 4,
     "metadata": {},
     "output_type": "execute_result"
    }
   ],
   "source": [
    "2020/100"
   ]
  },
  {
   "cell_type": "markdown",
   "metadata": {},
   "source": [
    "We see that it is 20.2, but in reality it should be 21, because there is no such thing as .2 of a year. If there is a decimal you need to round it UP to the nearest #. "
   ]
  },
  {
   "cell_type": "code",
   "execution_count": 10,
   "metadata": {},
   "outputs": [
    {
     "data": {
      "text/plain": [
       "21"
      ]
     },
     "execution_count": 10,
     "metadata": {},
     "output_type": "execute_result"
    }
   ],
   "source": [
    "import math \n",
    "math.ceil(2020/100)"
   ]
  },
  {
   "cell_type": "code",
   "execution_count": 12,
   "metadata": {},
   "outputs": [
    {
     "name": "stdout",
     "output_type": "stream",
     "text": [
      "21\n"
     ]
    }
   ],
   "source": [
    "print(math.ceil(2020/100))"
   ]
  },
  {
   "cell_type": "markdown",
   "metadata": {},
   "source": [
    "As metioned earlier we need to use ``ceil`` in order to deomonstrate that there is not a .2 of a year. We need to round it up if there is a decimal in the year. In 2022 we are currently in the 21st century. That is how we know that the progrm works."
   ]
  },
  {
   "cell_type": "code",
   "execution_count": 13,
   "metadata": {},
   "outputs": [
    {
     "data": {
      "text/plain": [
       "19"
      ]
     },
     "execution_count": 13,
     "metadata": {},
     "output_type": "execute_result"
    }
   ],
   "source": [
    "math.ceil(1900/100)"
   ]
  },
  {
   "cell_type": "code",
   "execution_count": 14,
   "metadata": {},
   "outputs": [
    {
     "data": {
      "text/plain": [
       "20"
      ]
     },
     "execution_count": 14,
     "metadata": {},
     "output_type": "execute_result"
    }
   ],
   "source": [
    "math.ceil(1905/100)\n"
   ]
  },
  {
   "cell_type": "markdown",
   "metadata": {},
   "source": [
    "Now that we have the understanding of how the function ``centuryFromYear()`` should work we now need to 'code' it "
   ]
  },
  {
   "cell_type": "code",
   "execution_count": 17,
   "metadata": {},
   "outputs": [],
   "source": [
    "def centuryFromYear(year):\n",
    "    return math.ceil(1905 / 100)\n",
    "\n",
    "\n"
   ]
  },
  {
   "cell_type": "markdown",
   "metadata": {},
   "source": [
    "## Outcome: \n",
    "The solution above works, you don't need to worry about the importing because in the problem set they already have it done for you. "
   ]
  },
  {
   "cell_type": "markdown",
   "metadata": {},
   "source": [
    "# Check Palindrome \n",
    "\n",
    "There are multiple ways to check if a word is a palidrome take the following: \n",
    "\n",
    "$$ aabbaa $$\n",
    "\n",
    "We can first start by putting a pointer on the first letter and the second letter. \n",
    "\n",
    "$$\n",
    "[a]aba[a]\n",
    "$$\n",
    "\n",
    "then we can check if those two characters match. They do, so we continue with the next characters \n",
    "\n",
    "$$\n",
    "a[a]b[a]a\n",
    "$$\n",
    "\n",
    "Because both of the cases do come out as true, we can stop there because that means that it is a palindrome with that word. No mater how many times we flip the word the letters will stay the same. \n",
    "\n",
    "Now that we understand the logic we are to code it under the function ``checkPalindrome()``:\n"
   ]
  },
  {
   "cell_type": "code",
   "execution_count": 18,
   "metadata": {},
   "outputs": [],
   "source": [
    "def checkPalindrome(inputString):\n",
    "    return inputString[::-1] == inputString"
   ]
  },
  {
   "cell_type": "markdown",
   "metadata": {},
   "source": [
    "Above we see that by using the ``inputString[::-1]`` we basically flip the word that is stored in the inputString variable. This is one of the approach. There is another approach that can be taken and that will be explained below: "
   ]
  },
  {
   "cell_type": "code",
   "execution_count": 20,
   "metadata": {},
   "outputs": [],
   "source": [
    "def checkPalindrome(inputString):\n",
    "    i = 0 \n",
    "    j = len(inputString) - 1\n",
    "    while i < j: \n",
    "        if inputString[i] != inputString[j]: return False\n",
    "        i += 1 \n",
    "        j -= 1\n",
    "    return True "
   ]
  },
  {
   "cell_type": "markdown",
   "metadata": {},
   "source": [
    "### Outcome: \n",
    "\n",
    "This approach is similar to the logic that we used at the start of the problem, where we use pointers in order ot see if letters match. We stop when we have gone through the lenght of the word. The way that we got that is by using the ``len(inputString) - 1``. At the end if we manage to get through the whole length of the word and the characters match then, it will return true; therefore, a palindrome "
   ]
  },
  {
   "cell_type": "markdown",
   "metadata": {},
   "source": [
    "# Adjacent Elements Product \n",
    "\n",
    "Givena n array of integers, find the pair of adjacent elements that has the largest product and return that product. \n",
    "\n",
    "* Example:\n",
    "For ``inputArray = [3,6,-2,-5,7,3]``, the output should be ``adjacentElementsPorduct(inputArray) = 21 ``\n",
    "\n",
    "``7`` and ``3`` produce the largest product "
   ]
  },
  {
   "cell_type": "code",
   "execution_count": 24,
   "metadata": {},
   "outputs": [],
   "source": [
    "def adjacentElementsProduct(inputArray):\n",
    "    \"\"\"\n",
    "    We are mapping the array and finding the two bigest #s\n",
    "    \"\"\"\n",
    "    return max(\n",
    "        [inputArray[i] * inputArray[i + 1] for i in range(0,len(inputArray) -1)]\n",
    "    )"
   ]
  },
  {
   "cell_type": "markdown",
   "metadata": {},
   "source": [
    "For the ``inputArray[i] * inputArray[i +1]`` is where we are going to be selecting the numbers, we take the first number of the ``inputArray`` and then we take the number after it by doing ``inputArray[i+1]``\n",
    "\n",
    "\n",
    "And we do this until we reach the limit of the array, and we do so my doing ``range(0,len(inputArray) -1)``. Where we start at position zero, and then we have the end be based on the count of the actual #s in the array. "
   ]
  },
  {
   "cell_type": "markdown",
   "metadata": {},
   "source": [
    "# Make Array Consectuive 2\n",
    "\n",
    "Ratior got status of idfferent sizes as a present from CodeMaster for his birthday, for each statue having an noonegative integer size. Since he likes to make things perfect, he wants to arrange them from samllest to largest so that each stattue will be bigger than the previous one exactly by 1. He may need additional statues to do that, help him figure out the minimm number of additional statues needed. \n",
    "\n",
    "\n",
    "* Example: For ``statues = [6,2,3,5]`` the output should be ``makeArrayConsecutive2(statues) = 3``\n",
    "\n",
    "Ratiorg needs statues of sizes ``4,5,7``\n",
    "\n",
    "\n",
    "\n"
   ]
  },
  {
   "cell_type": "markdown",
   "metadata": {},
   "source": [
    "Take the following array: \n",
    "\n",
    "$$\n",
    "    [6,2,3,8]\n",
    "$$\n",
    "We want to first re-arrange it: \n",
    "$$\n",
    "    [2,3,6,8]\n",
    "$$\n",
    "\n",
    "We now know which numbers are missing in order to have the array go up by 1. \n",
    "$$\n",
    "    4,5,7\n",
    "$$\n",
    "We see that the numbers that we need in order to have the array to go up by one is 3. So the finally we should get: \n",
    "$$\n",
    "    [4,5,6,7,8]\n",
    "$$"
   ]
  },
  {
   "cell_type": "markdown",
   "metadata": {},
   "source": [
    "### Now to craft the solution: "
   ]
  },
  {
   "cell_type": "code",
   "execution_count": 25,
   "metadata": {},
   "outputs": [],
   "source": [
    "def makeArrayConsecutive2(statues):\n",
    "    s = 0 \n",
    "    statues = statues.sort() # this is what we spoke about, having the numbers be re-arrange in order to see what #s are missing\n",
    "    \n",
    "    for i in range(0, len(statues) -1):\n",
    "        \"\"\"\n",
    "            Here we traverse through the array \n",
    "            then we run the if func. where if the the subtraction of the first number and second number\n",
    "            is greater than one, the difference gets stored into the variabe s, where s represents \n",
    "            the ammount of numbers that are needed additonaly in order to have the array go up by one. \n",
    "        \"\"\"\n",
    "        if statues[i + 1] - statues[i]>1:\n",
    "            s += statues[i+1]- statues[i] - 1\n",
    "    return s \n"
   ]
  },
  {
   "cell_type": "markdown",
   "metadata": {},
   "source": [
    "# Matrix Elements Sum \n",
    "\n",
    "After beomcing famous, the codeBots decided to move onto a new building together, each room has its own cost, and some are free, but there is a rumor that all of the free rooms are haundted. Since the CodeBots are quite supersitious, they refuse to stay in any other of the free rooms, or any of the rooms that are below the free rooms. \n",
    "\n",
    "\n",
    "Give ``matrix``, a rectangular matrix of integers, whereeach value represents the cost of the room, your task is to return the total sum of all the roos that are not suitable for the codebots. (i.e. Add up all the values that don't appear as a 0)\n",
    "\n",
    "$$\n",
    "\n",
    "$$"
   ]
  },
  {
   "cell_type": "markdown",
   "metadata": {},
   "source": [
    "### The logic: \n",
    "\n",
    "Based on the matrix provided if there is a ``0`` in the Column then you completely ignore the numbers that are below of the 0. After doing so you can just add all the numbers that remain in the matrix. \n",
    "\n",
    "Then we are going to work with finding how many rows we got in 2d dimensional array "
   ]
  },
  {
   "cell_type": "code",
   "execution_count": 27,
   "metadata": {},
   "outputs": [],
   "source": [
    "def matrixElementsSum(matrix):\n",
    "    rows_len = len(matrix)\n",
    "    cols_len = len(matrix)\n",
    "    cols = []\n",
    "    for c in range(cols_len):\n",
    "        # we are traversing throug the matrix. \n",
    "        col = []\n",
    "        for r in range(rows_len):\n",
    "            col.append(matrix[r][c])\n",
    "        cols.append(col)\n",
    "\n",
    "    for arr in cols: \n",
    "        for n in arr: \n",
    "            if n == 0: break # meaning we no longer continue counting. \n",
    "            s += n \n",
    "    return s "
   ]
  },
  {
   "cell_type": "markdown",
   "metadata": {},
   "source": [
    "# All Longest Strings \n",
    "\n",
    "Given an array of strings, return another array containing all of its longest strings. \n",
    "\n",
    "* Example: \n",
    "\n",
    "For ``inputArray = [\"aba\", \"aa\", \"ad\", \"vcd\", \"aba\"]``, the output should be: \n",
    "\n",
    "``allongestStrings(inputArray) = [\"aba\",\"vcd\",\"aba\"]``"
   ]
  },
  {
   "cell_type": "code",
   "execution_count": 2,
   "metadata": {},
   "outputs": [],
   "source": [
    "def allLongestStrings(inputArray):\n",
    "    m = max(inputArray, key= len) #this will store the longest string\n",
    "    return [s for s in inputArray if len(s) == m]\n",
    "    # this returns the array with the longest strings. "
   ]
  },
  {
   "cell_type": "markdown",
   "metadata": {},
   "source": [
    "A shorter way to do this:"
   ]
  },
  {
   "cell_type": "code",
   "execution_count": 3,
   "metadata": {},
   "outputs": [],
   "source": [
    "def allLongestStrings(inputArray):\n",
    "    return [s for s in inputArray if len(s) == len(max(inputArray, key = len))]"
   ]
  },
  {
   "cell_type": "markdown",
   "metadata": {},
   "source": [
    "# Common Character Count \n",
    "\n",
    "Given two strings, find the number of common characters between them \n",
    "\n",
    "* Example: for ``s1 = \"aabcc\" `` and ``s2 =\"adcaa\"``, the output should be: \n",
    "\n",
    "``commonCharacterCount(s1,s2) = 3``\n",
    "\n",
    "Strings have ``3`` common characters = 2 ``a`` and 1 ``c``"
   ]
  },
  {
   "cell_type": "code",
   "execution_count": 8,
   "metadata": {},
   "outputs": [],
   "source": [
    "from collections import Counter\n",
    "\n",
    "\n",
    "def commonCharacterCount(s1,s2):\n",
    "    \"\"\"\n",
    "    We first want to see the len of each of the strings \n",
    "    so we are going to make a dictionary to keep count of \n",
    "    the ammount of times that there are duplciates, but we can \n",
    "    also relate to functions from collections import Counter\n",
    "    \"\"\"\n",
    "    c1 = Counter(s1) # we can iterate strings, returns dictionary \n",
    "    c2 = Counter(s2) \n",
    "    sum_ = 0 \n",
    "    seen = set()\n",
    "    for c in s1: \n",
    "        if c in c2 and c not in seen: \n",
    "            sum_ += c2[c] if c1[c] > c2[c] else c1[c]\n",
    "            seen.add(c)\n",
    "    return sum_ \n",
    "            \n"
   ]
  },
  {
   "cell_type": "markdown",
   "metadata": {},
   "source": [
    "# isLucky \n",
    "\n",
    "Ticket numbers usualy consist of an even number of digits. A ticket number is considered lucky if the sum of the first half of the digits is equal to the sum of the second half. \n",
    "\n",
    "Given a ticket number n, determine if it's lucky or not. "
   ]
  },
  {
   "cell_type": "code",
   "execution_count": 11,
   "metadata": {},
   "outputs": [],
   "source": [
    "def isLucky(n):\n",
    "    s = str(n)\n",
    "    f_half = sum([int(x) for x in list(s[0:int(len(s)) / 2])])\n",
    "    s_half = sum([int(x) for x in list(s[int(len(s) / 2): len(s)])])\n",
    "    return f_half == s_half"
   ]
  },
  {
   "cell_type": "markdown",
   "metadata": {},
   "source": [
    "keep in mind to make sure to read the code from inside out."
   ]
  },
  {
   "cell_type": "markdown",
   "metadata": {},
   "source": [
    "# Sort By Height \n",
    "\n",
    "Some people are standign in a row in a park. There are trees between them which cannot be moved. Your task is to rearrange the people by their heights in a non descending order without moving the tress. People can be very tall. \n",
    "\n",
    "* Example: For ``a[-1,150,190,170,-1,-1,160,180]``, the output should be: \n",
    "\n",
    "``sortByHeight(a) = [-1,150,160,170,-1,-1,180, -190]`` "
   ]
  },
  {
   "cell_type": "code",
   "execution_count": 13,
   "metadata": {},
   "outputs": [],
   "source": [
    "def sortByHeight(a):\n",
    "    holder = sorted([x for x in a if x  != -1])\n",
    "    for i in range(len(a)): \n",
    "        \"\"\"\n",
    "        if we dont find a number that is not -1 then we replace \n",
    "        it with the smallest number \n",
    "        \"\"\"\n",
    "        if a[i] != -1: \n",
    "            a[i] = holder[j]\n",
    "            j+=1\n",
    "    return a \n"
   ]
  },
  {
   "cell_type": "markdown",
   "metadata": {},
   "source": [
    "# firstDuplicate\n",
    "\n",
    "Given an array ``a`` that contians only numbers in the range from ``1`` to ``a.length``, find the first duplicate number for whciht he second occurance has the minimal index. In other words, if there ar emore than 1 duplicated numbers, return the number for whcih the second occurence has a smaller index than the second occurance of the other number does. If there are no such elements, return -1. \n",
    "\n",
    "* For example:\n",
    "\n",
    "For ``a= [2,1,3,5,3,2]``, the output should be ``solution(a)= 3 `` \n",
    "\n",
    "there are ``2 `` duplciates: the numbers ``2`` and ``3``. The second occurance of ``3`` has a smaller index than the second occurrence of ``2 `` does, so the answer is ``3``. \n",
    "\n",
    "* for ``a= [2,2]``, the output should be ``solution(a) = 2 ``\n",
    "\n",
    "* For ``a= [2,4,3,5,1]``, the output should be solution(a) = -1"
   ]
  },
  {
   "cell_type": "code",
   "execution_count": null,
   "metadata": {},
   "outputs": [],
   "source": [
    "def solution(a): \n",
    "    item= set() # set deosn't allow duplicates\n",
    "    for num in a: \n",
    "        if num in item: \n",
    "            return num\n",
    "        item.add(num)\n",
    "        \n",
    "    return -1 # if there are no duplicates. "
   ]
  },
  {
   "cell_type": "markdown",
   "metadata": {},
   "source": [
    "# FirstNotRepeatingCharacter \n",
    "\n",
    "Given a string ``s`` consisting of small English letters, find and return the first instance of a non- repeating character in it. If there is no such character, return ``'_'``. \n",
    "\n",
    "* Example: \n",
    "* for ``s =\"abacabad\"``, the output should be ``solution(s) = 'c'``. \n",
    "\n",
    "There are ``2`` non-repeating characters in the string: ``'c'`` and ``'d'``. Return ``'c'`` since it appears in the string first. \n",
    "\n",
    "* For ``s = \"abacabaabacaba\"``, the output should be ``solution(s) = '_'``. \n",
    "\n",
    "therea re no characters in this string that do not repeat. "
   ]
  },
  {
   "cell_type": "markdown",
   "metadata": {},
   "source": [
    "The solution below was marked as only half correct. "
   ]
  },
  {
   "cell_type": "code",
   "execution_count": 4,
   "metadata": {},
   "outputs": [
    {
     "name": "stdout",
     "output_type": "stream",
     "text": [
      "a\n",
      "c\n"
     ]
    }
   ],
   "source": [
    "def nonrepeat(string): \n",
    "    freq= {}\n",
    "    for x in string: \n",
    "        \"\"\"\n",
    "        What this does is that if the key value exists \n",
    "        or if it is new, then it will return x and add +1 \n",
    "        to the x. Then if we happen to loop to a same \n",
    "        character in the string then it will update its x \n",
    "        by +1. \n",
    "        \"\"\"\n",
    "        freq[x] = freq.get(x,0) + 1\n",
    "    for i in string: \n",
    "        if freq[i] == 1: \n",
    "            \"\"\"\n",
    "            The very frequency character that has 1 \n",
    "            as its frequency is the first non-repeating \n",
    "            character; thus, our answer. \n",
    "            \"\"\"\n",
    "            return i \n",
    "    return -1 \n",
    "\n",
    "print(nonrepeat('abbcd'))\n",
    "print(nonrepeat('abbcda'))"
   ]
  },
  {
   "cell_type": "markdown",
   "metadata": {},
   "source": [
    "# Rotate Image \n",
    "\n",
    "You are given an n x n 2D matrix that represents an imge. Rotate the image by 90 degrees. clockwise. stay under O($n^2$) O(1)"
   ]
  },
  {
   "cell_type": "code",
   "execution_count": 7,
   "metadata": {},
   "outputs": [],
   "source": [
    "def solution(a):\n",
    "    a.reverse()\n",
    "    for i in range(len(a)):\n",
    "        for j in range(i):\n",
    "            a[i][j], a[j][i] = a[j][i], a[i][j]\n",
    "    return a\n"
   ]
  },
  {
   "cell_type": "markdown",
   "metadata": {},
   "source": [
    "That is one of the solutions "
   ]
  },
  {
   "cell_type": "code",
   "execution_count": 8,
   "metadata": {},
   "outputs": [],
   "source": [
    "def solution(a):\n",
    "    return list(zip(*reversed(a)))"
   ]
  },
  {
   "cell_type": "markdown",
   "metadata": {},
   "source": [
    "# traverseTree\n",
    "\n",
    "Givena  binary tree of integers t, return its node values in the following format: \n",
    "\n",
    "* The first eleemtn should be the value of the tree rot; \n",
    "\n",
    "* the next element should be the values of th enodes at height 1 (i.e the root children) ordered from the lefrtmost to the rightmost one; \n",
    "\n",
    "* the elements after that shoul be the vlaues of the nodes at height 2 (i.e the children of the nodes at height 1) ordered in the same way. \n"
   ]
  },
  {
   "cell_type": "code",
   "execution_count": 9,
   "metadata": {},
   "outputs": [],
   "source": [
    "#\n",
    "# Binary trees are already defined with this interface:\n",
    "# class Tree(object):\n",
    "#   def __init__(self, x):\n",
    "#     self.value = x\n",
    "#     self.left = None\n",
    "#     self.right = None\n",
    "def solution(t):\n",
    "    if t is None: \n",
    "        return []\n",
    "    res = [] \n",
    "    q= [t]\n",
    "    while q: \n",
    "        v= q.pop(0)\n",
    "        res += [v.value]\n",
    "        if v.left: \n",
    "            q += [v.left]\n",
    "        if v.right: \n",
    "            q += [v.right]\n",
    "    return res\n",
    "\n"
   ]
  },
  {
   "cell_type": "code",
   "execution_count": 10,
   "metadata": {},
   "outputs": [],
   "source": [
    "# here is another attempt to the problem: \n",
    "\n",
    "def solution(t):\n",
    "    if t is None: \n",
    "        return []\n",
    "    stack = []\n",
    "    result = []\n",
    "    stack.append(t)\n",
    "    while len(stack) > 0: \n",
    "        new_tree = stack.pop(0)\n",
    "        if new_tree.value is not None: \n",
    "            result.append(new_tree.value)\n",
    "        if new_tree.left is not None: \n",
    "            stack.append(new_tree.left)\n",
    "        if new_tree.right is not None: \n",
    "            stack.append(new_tree.right)\n",
    "    return result"
   ]
  },
  {
   "cell_type": "markdown",
   "metadata": {},
   "source": [
    "# LargestValuesInTreeRows \n",
    "\n",
    "You have a binary tree t, your task is to find the largest value in each row of this tree. In a tree, a row is a set of nodes that have equal depth for example, a row iwht depth 0 is a tree root, a row with depth 1 is composed of the root's children, etc. \n",
    "\n",
    "Return an array in whciht he first elemetns is the largest value in the row with depth 0, the second element is the largest value in the row with depth 1, the third element is the largest element in the row with depth 2, etc. "
   ]
  },
  {
   "cell_type": "code",
   "execution_count": 11,
   "metadata": {},
   "outputs": [],
   "source": [
    "import math \n",
    "\n",
    "def solution(t): \n",
    "    if t is None: \n",
    "        return []\n",
    "    \n",
    "    slack = [t]\n",
    "    result = []\n",
    "    while len(stack)>0: \n",
    "        result.append(max(tree.value for tree in stack))\n",
    "        next_row= [tree.left for tree in stack if tree.left] + [tree.right for tree in stack if tree.right]\n",
    "        stack= next_row\n",
    "    return result\n",
    "    "
   ]
  },
  {
   "cell_type": "markdown",
   "metadata": {},
   "source": [
    "Another attempt to this problem "
   ]
  },
  {
   "cell_type": "code",
   "execution_count": 12,
   "metadata": {},
   "outputs": [],
   "source": [
    "\n",
    "maxes = []\n",
    "\n",
    "def solution(t):\n",
    "    traverseAndLogTree(t, 1)\n",
    "    return maxes\n",
    "\n",
    "\n",
    "def traverseAndLogTree(node, row):\n",
    "    if not node:\n",
    "        return\n",
    "    \n",
    "    if len(maxes) < row:\n",
    "        maxes.append(node.value)\n",
    "    \n",
    "    if maxes[row - 1] < node.value:\n",
    "        maxes[row - 1] = node.value\n",
    "    \n",
    "    traverseAndLogTree(node.left, row + 1)\n",
    "    traverseAndLogTree(node.right, row + 1)\n",
    "\n",
    "    "
   ]
  },
  {
   "cell_type": "markdown",
   "metadata": {},
   "source": [
    "# RemoveKFromList\n",
    "\n",
    "Given a singly linked list of integer l and an integer k, remove all elements from list l htat have a value equal to k. "
   ]
  },
  {
   "cell_type": "markdown",
   "metadata": {},
   "source": [
    "* For ``l = [3,1,2,3,4,5]`` and ``k=3`` the output should be: \n",
    "\n",
    "``solution(l,k) = [1,2,4,5];``\n",
    "\n",
    "* For ``l = [1,2,3,4,5,6,7]`` and ``k= 10``, the output should be: \n",
    "\n",
    "``solution(l,k) = [1,2,3,4,5,6,7]``"
   ]
  },
  {
   "cell_type": "markdown",
   "metadata": {},
   "source": [
    "### Attempt on question\n",
    "\n",
    "So basically if the k value is a number in the linked list then you need to remove that number that is in the linked list. "
   ]
  },
  {
   "cell_type": "code",
   "execution_count": 7,
   "metadata": {},
   "outputs": [],
   "source": [
    "def solution(l, k):\n",
    "    c = l\n",
    "    while c:\n",
    "        if c.next and c.next.value == k:\n",
    "            c.next = c.next.next\n",
    "        else:\n",
    "            c = c.next\n",
    "    return l.next if l and l.value == k else l"
   ]
  },
  {
   "cell_type": "markdown",
   "metadata": {},
   "source": [
    "Another attempt on the solution"
   ]
  },
  {
   "cell_type": "code",
   "execution_count": 5,
   "metadata": {},
   "outputs": [],
   "source": [
    "def solution(l,k):\n",
    "    curr = l \n",
    "    while curr: \n",
    "        if curr.next and curr.next.value == k: \n",
    "            curr.next= curr.next.next \n",
    "        else: \n",
    "            curr = curr.next \n",
    "    return l if (l is None or l.value != k) else l.next"
   ]
  },
  {
   "cell_type": "markdown",
   "metadata": {},
   "source": [
    "Another attempt on the solution: "
   ]
  },
  {
   "cell_type": "code",
   "execution_count": 6,
   "metadata": {},
   "outputs": [],
   "source": [
    "import sys \n",
    "sys.setrecursionlimit(100000)\n",
    "\n",
    "def solution(l,k):\n",
    "    if l is None: return \n",
    "    # handle first element \n",
    "    if l.value == k: \n",
    "        l - uniqueNext(l)\n",
    "    # handle the rest \n",
    "    if l is None: return \n",
    "    l.next = solution(l.next,k)\n",
    "    return l \n",
    "\n",
    "def uniqueNext(l):\n",
    "    if l.next is None: return \n",
    "    if l.value == l.next.value: \n",
    "        return uniqueNext(l.next)\n",
    "    else: \n",
    "        return l.next\n"
   ]
  },
  {
   "cell_type": "markdown",
   "metadata": {},
   "source": [
    "# isListPalindrome \n",
    "\n",
    "Given a single linked list of integers, determine whether or not it's a palindrome. \n",
    "\n",
    "* Note: in examples below and test preview linked list are presented as arrays just for simplicity of visualization: in real data you will be given a head l of linked list\n",
    "\n",
    "* For ``l = [0,1,0]``, the output should be ``solution(l) =true ``; \n",
    "\n",
    "* For ``l = [1,2,2,3]``, the output should be ``solution(l) = false `` "
   ]
  },
  {
   "cell_type": "code",
   "execution_count": 8,
   "metadata": {},
   "outputs": [],
   "source": [
    "\"\"\"\n",
    "Definition for singly- linked list:\n",
    "class ListNode(object):\n",
    "    def __init__(self, x):\n",
    "        self.value = x \n",
    "        self.next = None\n",
    "\"\"\"\n",
    "\n",
    "def solution(l):\n",
    "    if not l or not l.next: \n",
    "        return True \n",
    "    s= 1 \n",
    "    n= 1 \n",
    "    while n.next: \n",
    "        n= n.next\n",
    "        s += 1 \n",
    "\n",
    "    middle = s//2\n",
    "\n",
    "    n = l \n",
    "    for i in range(middle):\n",
    "        n = n.next \n",
    "\n",
    "    if s % 2: \n",
    "        n = n.next \n",
    "\n",
    "    r = n # reverse n \n",
    "    m = r.next \n",
    "    for _ in range(middle-1): # flip n \n",
    "        m.next, r, m = r, m, m.next\n",
    "    \n",
    "    for _ in range(middle):\n",
    "        if r.value != l.value: \n",
    "            return False \n",
    "        r = r.next\n",
    "        l = l.next   \n",
    "    return True "
   ]
  },
  {
   "cell_type": "markdown",
   "metadata": {},
   "source": [
    "Another Attempt "
   ]
  },
  {
   "cell_type": "code",
   "execution_count": 9,
   "metadata": {},
   "outputs": [],
   "source": [
    "def solution(l):\n",
    "    a = []\n",
    "    while l != None: \n",
    "        a.append(l.value)\n",
    "        l = l.next \n",
    "    return a== a[::-1]"
   ]
  },
  {
   "cell_type": "markdown",
   "metadata": {},
   "source": [
    "Attempt #2 "
   ]
  },
  {
   "cell_type": "code",
   "execution_count": 10,
   "metadata": {},
   "outputs": [],
   "source": [
    "def solution(l):\n",
    "    s= 0 \n",
    "    k = l \n",
    "\n",
    "    while l: \n",
    "        l = l.next \n",
    "        s += 1 \n",
    "\n",
    "    l = k \n",
    "    i=0 \n",
    "    p= None \n",
    "\n",
    "    while l: \n",
    "        i += 1 \n",
    "        if i> s //2: \n",
    "            n = 1 \n",
    "            l = l.next \n",
    "            n.next = p \n",
    "            p = n \n",
    "        else: \n",
    "            l = l.next \n",
    "        \n",
    "    while k and p: \n",
    "        if k.value != p.value: \n",
    "            return False \n",
    "        k = k.next \n",
    "        p = p.next \n",
    "    return True"
   ]
  },
  {
   "cell_type": "markdown",
   "metadata": {},
   "source": [
    "# AddTwoHugeNumbers \n",
    "\n",
    "You're given ``2`` huge integers represented by linked list. Each linked list element is a number from ``0`` to ``9999`` that represent a number might have leading zeros. Your task is to add up these huge integers and return the result in the same format. \n",
    "\n",
    "Example: \n",
    "* For ``a = [9876, 5432, 1999]`` and ``b=[1,8001]``, the output shoudl be ``solution(a,b) = [9876,5434,0 ]`` \n",
    "Explanation: ``\n"
   ]
  },
  {
   "cell_type": "code",
   "execution_count": 1,
   "metadata": {},
   "outputs": [],
   "source": [
    "def solution(a,b):\n",
    "    a = reverse(a)\n",
    "    b = reverse(b)\n",
    "\n",
    "    carry = 0 \n",
    "    result = None \n",
    "\n",
    "    while a is not None or b is not None or carry > 0: \n",
    "        raw= ((a.value if a is not None else 0)+ (b.value if b is not None else 0) + carry)\n",
    "        node = ListNode(raw % 10000)\n",
    "        node.next = result \n",
    "        result = node \n",
    "        carry = raw // 10000\n",
    "\n",
    "        if a is not None: \n",
    "            a = a.next \n",
    "        if b is not None: \n",
    "            b = b.next \n",
    "        \n",
    "        return result \n",
    "    \n",
    "def reverse(list):\n",
    "\n",
    "    current = list \n",
    "    previous = None \n",
    "\n",
    "    while current is not None: \n",
    "        previous, current.next, current = current, previous\n",
    "        current, current.next \n",
    "\n",
    "    return previous \n",
    "    "
   ]
  },
  {
   "cell_type": "markdown",
   "metadata": {},
   "source": [
    "Another attempt to the problem: "
   ]
  },
  {
   "cell_type": "code",
   "execution_count": 4,
   "metadata": {},
   "outputs": [],
   "source": [
    "# Definition for singly- linked list:\n",
    "# class ListNode(object):\n",
    "#   def __init__(self, x):\n",
    "#       self.value = x\n",
    "#       self.next = None\n",
    "\n",
    "\n",
    "def solution(a,b):\n",
    "    str_a = ''\n",
    "    str_b = ''\n",
    "    ret = [] \n",
    "    while a: \n",
    "        str_a = str_a + str(a.value).zfill(4)\n",
    "        a = a.next \n",
    "    while b: \n",
    "        str_b = str_b + str(b.value).zfill(4)\n",
    "        b = b.next \n",
    "    ans = str(int(str_a) + int(str_b))\n",
    "    while ans: \n",
    "        ret.insert(0, int(ans[-4:]))\n",
    "        ans = ans[:-4]\n",
    "    return ret "
   ]
  },
  {
   "cell_type": "markdown",
   "metadata": {},
   "source": [
    "Another Attempt "
   ]
  },
  {
   "cell_type": "code",
   "execution_count": 5,
   "metadata": {},
   "outputs": [],
   "source": [
    "def solution(a,b): \n",
    "    ar1= []\n",
    "    ar2=[]\n",
    "    while a: \n",
    "        ar1.append(a.value)\n",
    "        a = a.next \n",
    "    while b: \n",
    "        ar2.append(b.value)\n",
    "        b= b.next \n",
    "    ar1= ar1[::-1]\n",
    "    ar2= ar2[::-1]\n",
    "    carry = 0 \n",
    "    res = []\n",
    "    for i in range(max(len(ar1), len(ar2))):\n",
    "        if i >= len(ar1) and i< len(ar2):\n",
    "            x = carry + ar2[i]\n",
    "        elif i >= len(ar2) and i< len(ar1):\n",
    "            x= carry +ar1[i]\n",
    "        elif i < len(ar1) and i< len(ar2):\n",
    "            x = carry + ar1[i] + ar[i]\n",
    "        carry = x//10000\n",
    "        x = x%10000\n",
    "        res.append(x)\n",
    "    if carry > 0: \n",
    "        res.append(carry)\n",
    "    return res[::-1]"
   ]
  },
  {
   "cell_type": "code",
   "execution_count": 6,
   "metadata": {},
   "outputs": [],
   "source": [
    "def solution(a,b):\n",
    "    aa= ''\n",
    "    bb= ''\n",
    "    while a: \n",
    "        aa+= '0' *(4-len(str(a.value))) + str(a.value)\n",
    "        a = a.next \n",
    "\n",
    "    while b: \n",
    "        bb+= '0' * (4-len(str(b.value))) + str(b.value)\n",
    "        b = b.next \n",
    "    suma = str(int(aa) + int(bb))\n",
    "    c= '0' *(0 if len(suma)%4 == 0 else 4 -len(sum)%4) +suma\n",
    "    cc = [int(c[4*i:4*i+4]) for i in range(len(c)//4)]\n",
    "    node = ListNode(cc[0])\n",
    "    l = node \n",
    "    for i in range(len(cc) -1):\n",
    "        new_node= ListNode(cc[i+1])\n",
    "        l.next= new_node\n",
    "        l = l.next\n",
    "    return node"
   ]
  },
  {
   "cell_type": "markdown",
   "metadata": {},
   "source": [
    "# MergeTwoLinkedList \n",
    "\n",
    "\n",
    "Givent two singly linked lists sorted in non-decreasing order, your task is to merge them. In other words, return a singly linked list, also sorted in nondecreasing order, that contain the elements from both original lists. \n",
    "\n",
    "## Example: \n",
    "* For ``l1=[1,2,3]`` and ``l2= [4,5,6]`` the output should be: \n",
    "``solution(l1,l2) =[1,2,3,4,5,6]`` \n",
    "\n",
    "* For ``l1= [1,1,2,4]`` and ``l2= [0,3,5]`` the outut should be: \n",
    "``solution(l1,l2) = [0,1,1,2,3,4,5]``"
   ]
  },
  {
   "cell_type": "code",
   "execution_count": 7,
   "metadata": {},
   "outputs": [],
   "source": [
    "def solution(l1,l2):\n",
    "    Headt = ListNode(None)\n",
    "    current = Headt \n",
    "    while l1 and l2: \n",
    "        if l1.value <= l2.value:\n",
    "            current.next =l1\n",
    "            l1= l1.next \n",
    "        else: \n",
    "            current.next = l2 \n",
    "            l2 = l2.next \n",
    "        current = current.next \n",
    "\n",
    "    if l1:\n",
    "        current.next= l1 \n",
    "    elif l2: \n",
    "        current.next = l2 \n",
    "    \n",
    "    return Headt.next"
   ]
  },
  {
   "cell_type": "markdown",
   "metadata": {},
   "source": [
    "Another Example: "
   ]
  },
  {
   "cell_type": "code",
   "execution_count": 8,
   "metadata": {},
   "outputs": [],
   "source": [
    "\"\"\"\n",
    "Definition for singly- linked list: \n",
    "\n",
    "\n",
    "class ListNode(object):\n",
    "    def __init__(self, x):\n",
    "        self.value = x \n",
    "        self.next = None\n",
    "\"\"\"\n",
    "\n",
    "def solution(l1,l2):\n",
    "    dummy = ListNode('Head')\n",
    "    x = dummy \n",
    "    while l1 != None or l2 != None: \n",
    "        if l1 != None and l2 != None: \n",
    "            val1 = l1.value \n",
    "            val2 = l2.value \n",
    "            if val1 <= val2: \n",
    "                dummy.next = ListNode(val1)\n",
    "                l1 = l1.next \n",
    "            else: \n",
    "                dummy.next = ListNode(val2)\n",
    "                l2 = l2.next \n",
    "        elif l1 != None: \n",
    "            val1 = l1.value \n",
    "            dummy.next = ListNode(val1)\n",
    "            l1 = l1.next \n",
    "        elif l2 != None: \n",
    "            val2 = l2.value \n",
    "            dummy.next = ListNode(val2)\n",
    "            l2 = l2.next \n",
    "        dummy = dummy.next \n",
    "    return x.next"
   ]
  },
  {
   "cell_type": "code",
   "execution_count": null,
   "metadata": {},
   "outputs": [],
   "source": []
  }
 ],
 "metadata": {
  "kernelspec": {
   "display_name": "Python 3",
   "language": "python",
   "name": "python3"
  },
  "language_info": {
   "codemirror_mode": {
    "name": "ipython",
    "version": 3
   },
   "file_extension": ".py",
   "mimetype": "text/x-python",
   "name": "python",
   "nbconvert_exporter": "python",
   "pygments_lexer": "ipython3",
   "version": "3.9.6"
  }
 },
 "nbformat": 4,
 "nbformat_minor": 2
}
