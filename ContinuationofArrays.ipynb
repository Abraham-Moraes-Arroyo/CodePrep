{
 "cells": [
  {
   "cell_type": "code",
   "execution_count": 1,
   "metadata": {},
   "outputs": [],
   "source": [
    "def check_unique(nums):\n",
    "    s = set()\n",
    "    for num in nums:\n",
    "        if num == '.':\n",
    "            continue \n",
    "            \n",
    "        if num in s:\n",
    "            return False\n",
    "        s.add(num)\n",
    "    return True\n",
    "        \n",
    "\n",
    "def solution(grid):\n",
    "    for line in grid:\n",
    "        if not check_unique(line):\n",
    "            return False\n",
    "    \n",
    "    for i in range(9):\n",
    "        if not check_unique([line[i] for line in grid]):\n",
    "            return False\n",
    "        \n",
    "    for i in range(0,9,3):\n",
    "        for j in range(0, 9, 3):\n",
    "            if not check_unique(grid[i][j:j+3] + grid[i+1][j:j+3] + grid[i+2][j:j+3]):\n",
    "                return False\n",
    "            \n",
    "    return True\n"
   ]
  },
  {
   "cell_type": "code",
   "execution_count": 2,
   "metadata": {},
   "outputs": [],
   "source": [
    "# is CryptSolution\n",
    "\n",
    "def solution(crypt, solution):\n",
    "    table = str.maketrans(dict(solution))\n",
    "    t = tuple(s.translate(table) for  s in crypt)\n",
    "    zeroes = any(s[0] == '0' for s in t if len(s) >1)\n",
    "    return not zeroes and int(t[0]) + int(t[1]) == int(t[2])"
   ]
  },
  {
   "cell_type": "code",
   "execution_count": null,
   "metadata": {},
   "outputs": [],
   "source": []
  }
 ],
 "metadata": {
  "kernelspec": {
   "display_name": "Python 3",
   "language": "python",
   "name": "python3"
  },
  "language_info": {
   "codemirror_mode": {
    "name": "ipython",
    "version": 3
   },
   "file_extension": ".py",
   "mimetype": "text/x-python",
   "name": "python",
   "nbconvert_exporter": "python",
   "pygments_lexer": "ipython3",
   "version": "3.9.6"
  }
 },
 "nbformat": 4,
 "nbformat_minor": 2
}
