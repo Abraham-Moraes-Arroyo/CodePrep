{
 "cells": [
  {
   "cell_type": "markdown",
   "metadata": {},
   "source": [
    "# ReverseNodesInKGroups \n",
    "\n",
    "Given a linked list l, reverse its nodes k at a time and return the modified list. k is a positive integer that is less than or equal to the length of l. If the number of nodes in the linkd list is not multiple of k, then the nodes thaat are left out at the end should remain as is. \n",
    "\n",
    "You may not alter the values in the nodes- only the nodes themselves can be changed. \n",
    "\n",
    "i.e.\n",
    "\n",
    "For l = [1,2,3,4,5] and k= 2, the output should be: \n",
    "\n",
    "solution(l,k)= [2,1,4,3,5]"
   ]
  },
  {
   "cell_type": "code",
   "execution_count": 1,
   "metadata": {},
   "outputs": [],
   "source": [
    "# defintion for singly-linked list: \n",
    "# class ListNode(object):\n",
    "#   def __init__(self,x):\n",
    "#       self.value = x \n",
    "#       self.next = None\n",
    "\n",
    "def solution(l,k):\n",
    "    if not l: \n",
    "        return l \n",
    "    \n",
    "    c = l \n",
    "    n = k \n",
    "    while c and n: \n",
    "        c=c.next\n",
    "        n -= 1\n",
    "    if n: \n",
    "        return l \n",
    "    curr = l \n",
    "    prev = None \n",
    "    next = None \n",
    "    n = k \n",
    "\n",
    "    while curr and n: \n",
    "        next = curr.next \n",
    "        curr.next = prev \n",
    "        prev = curr \n",
    "        curr = next \n",
    "        n -= 1 \n",
    "    if next:\n",
    "        l.next = solution(next, k)\n",
    "    return prev "
   ]
  },
  {
   "cell_type": "markdown",
   "metadata": {},
   "source": [
    "# rearrangeLastN "
   ]
  },
  {
   "cell_type": "code",
   "execution_count": 2,
   "metadata": {},
   "outputs": [],
   "source": [
    "def solution(l,n):\n",
    "    if n ==0: \n",
    "        return l \n",
    "    front, back = l , l \n",
    "    for _ in range(n):\n",
    "        front  = front.next \n",
    "    if not front: \n",
    "        return l \n",
    "    while front.next: \n",
    "        front = front.next \n",
    "        back = back.next \n",
    "    out = back.next \n",
    "    back.next = None \n",
    "    front.next = l \n",
    "    return out "
   ]
  },
  {
   "cell_type": "code",
   "execution_count": null,
   "metadata": {},
   "outputs": [],
   "source": []
  }
 ],
 "metadata": {
  "kernelspec": {
   "display_name": "Python 3",
   "language": "python",
   "name": "python3"
  },
  "language_info": {
   "codemirror_mode": {
    "name": "ipython",
    "version": 3
   },
   "file_extension": ".py",
   "mimetype": "text/x-python",
   "name": "python",
   "nbconvert_exporter": "python",
   "pygments_lexer": "ipython3",
   "version": "3.9.6"
  }
 },
 "nbformat": 4,
 "nbformat_minor": 2
}
